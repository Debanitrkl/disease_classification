{
 "cells": [
  {
   "cell_type": "markdown",
   "metadata": {},
   "source": [
    "#### Requisite cells for sagemaker"
   ]
  },
  {
   "cell_type": "code",
   "execution_count": 47,
   "metadata": {},
   "outputs": [],
   "source": [
    "import boto3, re, sys, math, json, os, sagemaker, urllib.request\n",
    "from sagemaker import get_execution_role\n",
    "import numpy as np                                \n",
    "import pandas as pd                               \n",
    "import matplotlib.pyplot as plt                   \n",
    "from IPython.display import Image                 \n",
    "from IPython.display import display               \n",
    "from time import gmtime, strftime                 \n",
    "from sagemaker.predictor import csv_serializer \n",
    "from collections import Counter\n",
    "from sklearn.preprocessing import MultiLabelBinarizer, LabelEncoder"
   ]
  },
  {
   "cell_type": "code",
   "execution_count": 2,
   "metadata": {},
   "outputs": [
    {
     "name": "stdout",
     "output_type": "stream",
     "text": [
      "Success - the MySageMakerInstance is in the us-east-1 region.\n"
     ]
    }
   ],
   "source": [
    "# Define IAM role\n",
    "role = get_execution_role()\n",
    "\n",
    "my_region = boto3.session.Session().region_name # set the region of the instance\n",
    "print(\"Success - the MySageMakerInstance is in the \" + my_region + \" region.\")"
   ]
  },
  {
   "cell_type": "code",
   "execution_count": 3,
   "metadata": {},
   "outputs": [],
   "source": [
    "bucket_name = 'test-medikate'\n",
    "s3 = boto3.resource('s3')"
   ]
  },
  {
   "cell_type": "markdown",
   "metadata": {},
   "source": [
    "### The next cell imports the raw data and drops\n",
    "* Null columns\n",
    "* Rows with disease name as null"
   ]
  },
  {
   "cell_type": "code",
   "execution_count": 4,
   "metadata": {},
   "outputs": [
    {
     "name": "stderr",
     "output_type": "stream",
     "text": [
      "/home/ec2-user/anaconda3/envs/python3/lib/python3.6/site-packages/IPython/core/interactiveshell.py:2785: DtypeWarning: Columns (19) have mixed types. Specify dtype option on import or set low_memory=False.\n",
      "  interactivity=interactivity, compiler=compiler, result=result)\n"
     ]
    }
   ],
   "source": [
    "patients_df = pd.read_csv(\"ML DATA.csv\",encoding = \"ISO-8859-1\")\n",
    "patients_df.drop(columns=['HEART_RATE','HEAD_CIRCUMFERENCE','UPPER_ARM_CIRCUMFERENCE'],inplace = True)\n",
    "patients_df = patients_df[pd.notnull(patients_df['DISEASE_ID'])]\n",
    "patients_df.drop(patients_df[patients_df.REFERRED == 'Y'].index, inplace=True)\n",
    "patients_df.drop(patients_df[patients_df.DISEASE_ID == '0'].index, inplace=True)"
   ]
  },
  {
   "cell_type": "code",
   "execution_count": 5,
   "metadata": {},
   "outputs": [
    {
     "data": {
      "text/html": [
       "<div>\n",
       "<style scoped>\n",
       "    .dataframe tbody tr th:only-of-type {\n",
       "        vertical-align: middle;\n",
       "    }\n",
       "\n",
       "    .dataframe tbody tr th {\n",
       "        vertical-align: top;\n",
       "    }\n",
       "\n",
       "    .dataframe thead th {\n",
       "        text-align: right;\n",
       "    }\n",
       "</style>\n",
       "<table border=\"1\" class=\"dataframe\">\n",
       "  <thead>\n",
       "    <tr style=\"text-align: right;\">\n",
       "      <th></th>\n",
       "      <th>PATIENT_VISIT_ID</th>\n",
       "      <th>GENDER</th>\n",
       "      <th>AGE</th>\n",
       "      <th>STATE_NAME</th>\n",
       "      <th>DISTRICT_NAME</th>\n",
       "      <th>CENTER_SHORT_NAME</th>\n",
       "      <th>SYSTOLIC_BP</th>\n",
       "      <th>DIASTOLIC_BP</th>\n",
       "      <th>PULSE</th>\n",
       "      <th>RESPIRATION_RATE</th>\n",
       "      <th>BODY_TEMPERATURE</th>\n",
       "      <th>BODY_WEIGHT</th>\n",
       "      <th>HEIGHT</th>\n",
       "      <th>SPO2</th>\n",
       "      <th>SYMPTOM_ID</th>\n",
       "      <th>SYMPTOM_DESC</th>\n",
       "      <th>MEDICAL_TEST_NAME</th>\n",
       "      <th>DISEASE_ID</th>\n",
       "      <th>REFERRED</th>\n",
       "    </tr>\n",
       "  </thead>\n",
       "  <tbody>\n",
       "    <tr>\n",
       "      <th>1</th>\n",
       "      <td>PV000000554650</td>\n",
       "      <td>Male</td>\n",
       "      <td>42.0</td>\n",
       "      <td>Rajasthan</td>\n",
       "      <td>Jhunjhunun</td>\n",
       "      <td>B D K Hospital Jhunjhunu</td>\n",
       "      <td>138.0</td>\n",
       "      <td>96.0</td>\n",
       "      <td>86.0</td>\n",
       "      <td>NaN</td>\n",
       "      <td>97.8</td>\n",
       "      <td>85.0</td>\n",
       "      <td>NaN</td>\n",
       "      <td>98.0</td>\n",
       "      <td>SYMP00099~SYMP00499</td>\n",
       "      <td>NaN</td>\n",
       "      <td>CBC~LIVER FUNCTION TEST (LFT)</td>\n",
       "      <td>DISE00447~DISE02143</td>\n",
       "      <td>N</td>\n",
       "    </tr>\n",
       "    <tr>\n",
       "      <th>2</th>\n",
       "      <td>PV000000554656</td>\n",
       "      <td>Male</td>\n",
       "      <td>60.0</td>\n",
       "      <td>Rajasthan</td>\n",
       "      <td>Dholpur</td>\n",
       "      <td>Bari</td>\n",
       "      <td>120.0</td>\n",
       "      <td>79.0</td>\n",
       "      <td>73.0</td>\n",
       "      <td>NaN</td>\n",
       "      <td>NaN</td>\n",
       "      <td>60.0</td>\n",
       "      <td>NaN</td>\n",
       "      <td>98.0</td>\n",
       "      <td>NaN</td>\n",
       "      <td>COUGH BODY PAIN GHABRAHAT</td>\n",
       "      <td>CBC~HB, TLC, DLC, ESR~X-RAY - CHEST   CHEST   ...</td>\n",
       "      <td>DISE00630</td>\n",
       "      <td>N</td>\n",
       "    </tr>\n",
       "    <tr>\n",
       "      <th>3</th>\n",
       "      <td>PV000000554828</td>\n",
       "      <td>Female</td>\n",
       "      <td>45.5</td>\n",
       "      <td>Rajasthan</td>\n",
       "      <td>Ganganagar</td>\n",
       "      <td>Govt Hospitals Sriganganagar</td>\n",
       "      <td>110.0</td>\n",
       "      <td>80.0</td>\n",
       "      <td>78.0</td>\n",
       "      <td>18.0</td>\n",
       "      <td>NaN</td>\n",
       "      <td>NaN</td>\n",
       "      <td>NaN</td>\n",
       "      <td>NaN</td>\n",
       "      <td>NaN</td>\n",
       "      <td>BRITHLESS NESS</td>\n",
       "      <td>2D DOPPLER ECHOCARDIOGRAM WITH COLOR FLOW~SPIR...</td>\n",
       "      <td>DISE02117</td>\n",
       "      <td>N</td>\n",
       "    </tr>\n",
       "    <tr>\n",
       "      <th>5</th>\n",
       "      <td>PV000000554890</td>\n",
       "      <td>Male</td>\n",
       "      <td>63.0</td>\n",
       "      <td>Rajasthan</td>\n",
       "      <td>Ajmer</td>\n",
       "      <td>Y N Hospital Kishangarh</td>\n",
       "      <td>120.0</td>\n",
       "      <td>80.0</td>\n",
       "      <td>74.0</td>\n",
       "      <td>26.0</td>\n",
       "      <td>98.6</td>\n",
       "      <td>65.0</td>\n",
       "      <td>NaN</td>\n",
       "      <td>98.0</td>\n",
       "      <td>SYMP04504</td>\n",
       "      <td>NaN</td>\n",
       "      <td>UGI ENDOSCOPY</td>\n",
       "      <td>DISE02045</td>\n",
       "      <td>N</td>\n",
       "    </tr>\n",
       "    <tr>\n",
       "      <th>7</th>\n",
       "      <td>PV000000554912</td>\n",
       "      <td>Male</td>\n",
       "      <td>65.5</td>\n",
       "      <td>Rajasthan</td>\n",
       "      <td>Dholpur</td>\n",
       "      <td>Bari</td>\n",
       "      <td>146.0</td>\n",
       "      <td>100.0</td>\n",
       "      <td>89.0</td>\n",
       "      <td>NaN</td>\n",
       "      <td>NaN</td>\n",
       "      <td>75.0</td>\n",
       "      <td>NaN</td>\n",
       "      <td>98.0</td>\n",
       "      <td>SYMP00875</td>\n",
       "      <td>NaN</td>\n",
       "      <td>ECG</td>\n",
       "      <td>DISE02897</td>\n",
       "      <td>N</td>\n",
       "    </tr>\n",
       "  </tbody>\n",
       "</table>\n",
       "</div>"
      ],
      "text/plain": [
       "  PATIENT_VISIT_ID  GENDER   AGE STATE_NAME DISTRICT_NAME  \\\n",
       "1   PV000000554650    Male  42.0  Rajasthan    Jhunjhunun   \n",
       "2   PV000000554656    Male  60.0  Rajasthan       Dholpur   \n",
       "3   PV000000554828  Female  45.5  Rajasthan    Ganganagar   \n",
       "5   PV000000554890    Male  63.0  Rajasthan         Ajmer   \n",
       "7   PV000000554912    Male  65.5  Rajasthan       Dholpur   \n",
       "\n",
       "              CENTER_SHORT_NAME  SYSTOLIC_BP  DIASTOLIC_BP  PULSE  \\\n",
       "1      B D K Hospital Jhunjhunu        138.0          96.0   86.0   \n",
       "2                          Bari        120.0          79.0   73.0   \n",
       "3  Govt Hospitals Sriganganagar        110.0          80.0   78.0   \n",
       "5       Y N Hospital Kishangarh        120.0          80.0   74.0   \n",
       "7                          Bari        146.0         100.0   89.0   \n",
       "\n",
       "   RESPIRATION_RATE  BODY_TEMPERATURE  BODY_WEIGHT  HEIGHT  SPO2  \\\n",
       "1               NaN              97.8         85.0     NaN  98.0   \n",
       "2               NaN               NaN         60.0     NaN  98.0   \n",
       "3              18.0               NaN          NaN     NaN   NaN   \n",
       "5              26.0              98.6         65.0     NaN  98.0   \n",
       "7               NaN               NaN         75.0     NaN  98.0   \n",
       "\n",
       "            SYMPTOM_ID               SYMPTOM_DESC  \\\n",
       "1  SYMP00099~SYMP00499                        NaN   \n",
       "2                  NaN  COUGH BODY PAIN GHABRAHAT   \n",
       "3                  NaN             BRITHLESS NESS   \n",
       "5            SYMP04504                        NaN   \n",
       "7            SYMP00875                        NaN   \n",
       "\n",
       "                                   MEDICAL_TEST_NAME           DISEASE_ID  \\\n",
       "1                      CBC~LIVER FUNCTION TEST (LFT)  DISE00447~DISE02143   \n",
       "2  CBC~HB, TLC, DLC, ESR~X-RAY - CHEST   CHEST   ...            DISE00630   \n",
       "3  2D DOPPLER ECHOCARDIOGRAM WITH COLOR FLOW~SPIR...            DISE02117   \n",
       "5                                      UGI ENDOSCOPY            DISE02045   \n",
       "7                                                ECG            DISE02897   \n",
       "\n",
       "  REFERRED  \n",
       "1        N  \n",
       "2        N  \n",
       "3        N  \n",
       "5        N  \n",
       "7        N  "
      ]
     },
     "execution_count": 5,
     "metadata": {},
     "output_type": "execute_result"
    }
   ],
   "source": [
    "patients_df.head()"
   ]
  },
  {
   "cell_type": "code",
   "execution_count": 6,
   "metadata": {},
   "outputs": [
    {
     "data": {
      "text/plain": [
       "(64351, 19)"
      ]
     },
     "execution_count": 6,
     "metadata": {},
     "output_type": "execute_result"
    }
   ],
   "source": [
    "patients_df.shape"
   ]
  },
  {
   "cell_type": "markdown",
   "metadata": {},
   "source": [
    "### The next cell drops all rows with wrongly entered vitals"
   ]
  },
  {
   "cell_type": "code",
   "execution_count": 7,
   "metadata": {},
   "outputs": [],
   "source": [
    "patients_df.drop(patients_df[(patients_df.SYSTOLIC_BP>230) | (patients_df.DIASTOLIC_BP>150)].index, inplace = True)\n",
    "patients_df.drop(patients_df[(patients_df.SYSTOLIC_BP<80) | (patients_df.DIASTOLIC_BP<50)].index, inplace=True)\n",
    "patients_df.drop(patients_df[(patients_df.BODY_TEMPERATURE<90) | (patients_df.BODY_TEMPERATURE>110)].index, inplace=True)\n",
    "patients_df.drop(patients_df[patients_df.AGE>100].index, inplace=True)\n",
    "patients_df.drop(patients_df[(patients_df.SPO2>100) | (patients_df.SPO2<80)].index,inplace=True)\n",
    "patients_df.drop(patients_df[(patients_df.PULSE<50) | (patients_df.PULSE>120)].index,inplace=True)\n",
    "patients_df.drop(patients_df[(patients_df.RESPIRATION_RATE>30) | (patients_df.RESPIRATION_RATE<13)].index,inplace=True)\n",
    "patients_df.drop(patients_df[patients_df.BODY_WEIGHT>200].index,inplace=True)\n",
    "patients_df.drop(patients_df[(patients_df.HEIGHT>200) | (patients_df.HEIGHT<45)].index,inplace=True)"
   ]
  },
  {
   "cell_type": "markdown",
   "metadata": {},
   "source": [
    "Vitals to be categorized:\n",
    "\n",
    "- [X] Age\n",
    "- [X] Sys and Dias BP\n",
    "- [X] Pulse\n",
    "- [X] RESPIRATION_RATE\n",
    "- [ ] BODY_TEMPERATURE\n",
    "- [ ] BODY_WEIGHT\n",
    "- [ ] Height\n",
    "- [X] SPO2\n",
    "\n",
    "(For XGBoost, should be numeric)"
   ]
  },
  {
   "cell_type": "markdown",
   "metadata": {},
   "source": [
    "### Binning age values:"
   ]
  },
  {
   "cell_type": "code",
   "execution_count": 8,
   "metadata": {},
   "outputs": [],
   "source": [
    "bins = [x for x in range(0,101,5)]\n",
    "labels = [x for x in range(1,21)]\n",
    "\n",
    "patients_df['age_binned'] = pd.cut(patients_df.AGE,bins,labels=labels,include_lowest=True)"
   ]
  },
  {
   "cell_type": "markdown",
   "metadata": {},
   "source": [
    "#### As we see, most of the vitals consist of null values"
   ]
  },
  {
   "cell_type": "code",
   "execution_count": 9,
   "metadata": {
    "scrolled": false
   },
   "outputs": [
    {
     "data": {
      "text/plain": [
       "PATIENT_VISIT_ID      0.000000\n",
       "GENDER                0.000000\n",
       "AGE                   0.000000\n",
       "STATE_NAME            0.000000\n",
       "DISTRICT_NAME         0.000000\n",
       "CENTER_SHORT_NAME     0.000000\n",
       "SYSTOLIC_BP          49.047558\n",
       "DIASTOLIC_BP         49.023506\n",
       "PULSE                33.133438\n",
       "RESPIRATION_RATE     55.549498\n",
       "BODY_TEMPERATURE     42.537601\n",
       "BODY_WEIGHT          30.925504\n",
       "HEIGHT               61.052497\n",
       "SPO2                 35.753455\n",
       "SYMPTOM_ID           42.611359\n",
       "SYMPTOM_DESC         57.372607\n",
       "MEDICAL_TEST_NAME    89.053330\n",
       "DISEASE_ID            0.000000\n",
       "REFERRED              0.000000\n",
       "age_binned            0.000000\n",
       "dtype: float64"
      ]
     },
     "execution_count": 9,
     "metadata": {},
     "output_type": "execute_result"
    }
   ],
   "source": [
    "patients_df.isnull().sum()/patients_df.shape[0]*100"
   ]
  },
  {
   "cell_type": "markdown",
   "metadata": {},
   "source": [
    "#### Replacing with default values if available, else median"
   ]
  },
  {
   "cell_type": "markdown",
   "metadata": {},
   "source": [
    "<b>NOTE:</b> This might be risky since many patients with missing vitals may actually contain abnormal values, which the model may fail to consider. Thus, better to infer values depending on other vitals (to check later)"
   ]
  },
  {
   "cell_type": "code",
   "execution_count": 10,
   "metadata": {},
   "outputs": [],
   "source": [
    "patients_df.SYSTOLIC_BP.fillna(120,inplace=True)\n",
    "patients_df.DIASTOLIC_BP.fillna(80,inplace=True)\n",
    "patients_df.PULSE.fillna(patients_df.PULSE.median(),inplace=True)\n",
    "patients_df.RESPIRATION_RATE.fillna(patients_df.RESPIRATION_RATE.median(),inplace=True)\n",
    "patients_df.BODY_TEMPERATURE.fillna(patients_df.BODY_TEMPERATURE.median(),inplace=True)\n",
    "patients_df.BODY_WEIGHT.fillna(patients_df.BODY_WEIGHT.median(),inplace=True)\n",
    "patients_df.HEIGHT.fillna(patients_df.HEIGHT.median(),inplace=True)\n",
    "patients_df.SPO2.fillna(patients_df.SPO2.median(),inplace=True)"
   ]
  },
  {
   "cell_type": "code",
   "execution_count": 13,
   "metadata": {},
   "outputs": [
    {
     "data": {
      "text/html": [
       "<div>\n",
       "<style scoped>\n",
       "    .dataframe tbody tr th:only-of-type {\n",
       "        vertical-align: middle;\n",
       "    }\n",
       "\n",
       "    .dataframe tbody tr th {\n",
       "        vertical-align: top;\n",
       "    }\n",
       "\n",
       "    .dataframe thead th {\n",
       "        text-align: right;\n",
       "    }\n",
       "</style>\n",
       "<table border=\"1\" class=\"dataframe\">\n",
       "  <thead>\n",
       "    <tr style=\"text-align: right;\">\n",
       "      <th></th>\n",
       "      <th>AGE</th>\n",
       "      <th>SYSTOLIC_BP</th>\n",
       "      <th>DIASTOLIC_BP</th>\n",
       "      <th>PULSE</th>\n",
       "      <th>RESPIRATION_RATE</th>\n",
       "      <th>BODY_TEMPERATURE</th>\n",
       "      <th>BODY_WEIGHT</th>\n",
       "      <th>HEIGHT</th>\n",
       "      <th>SPO2</th>\n",
       "    </tr>\n",
       "  </thead>\n",
       "  <tbody>\n",
       "    <tr>\n",
       "      <th>count</th>\n",
       "      <td>62366.000000</td>\n",
       "      <td>62366.000000</td>\n",
       "      <td>62366.000000</td>\n",
       "      <td>62366.000000</td>\n",
       "      <td>62366.000000</td>\n",
       "      <td>62366.000000</td>\n",
       "      <td>62366.000000</td>\n",
       "      <td>62366.000000</td>\n",
       "      <td>62366.000000</td>\n",
       "    </tr>\n",
       "    <tr>\n",
       "      <th>mean</th>\n",
       "      <td>30.880890</td>\n",
       "      <td>119.425697</td>\n",
       "      <td>78.772360</td>\n",
       "      <td>83.541978</td>\n",
       "      <td>18.724369</td>\n",
       "      <td>97.981415</td>\n",
       "      <td>43.026369</td>\n",
       "      <td>147.836538</td>\n",
       "      <td>98.399785</td>\n",
       "    </tr>\n",
       "    <tr>\n",
       "      <th>std</th>\n",
       "      <td>20.599724</td>\n",
       "      <td>8.676262</td>\n",
       "      <td>5.781984</td>\n",
       "      <td>9.205772</td>\n",
       "      <td>2.098382</td>\n",
       "      <td>0.782968</td>\n",
       "      <td>16.003020</td>\n",
       "      <td>16.853247</td>\n",
       "      <td>1.524062</td>\n",
       "    </tr>\n",
       "    <tr>\n",
       "      <th>min</th>\n",
       "      <td>0.000000</td>\n",
       "      <td>80.000000</td>\n",
       "      <td>50.000000</td>\n",
       "      <td>50.000000</td>\n",
       "      <td>13.000000</td>\n",
       "      <td>90.000000</td>\n",
       "      <td>0.410000</td>\n",
       "      <td>45.000000</td>\n",
       "      <td>80.000000</td>\n",
       "    </tr>\n",
       "    <tr>\n",
       "      <th>25%</th>\n",
       "      <td>14.000000</td>\n",
       "      <td>120.000000</td>\n",
       "      <td>80.000000</td>\n",
       "      <td>78.000000</td>\n",
       "      <td>18.000000</td>\n",
       "      <td>98.000000</td>\n",
       "      <td>40.000000</td>\n",
       "      <td>151.000000</td>\n",
       "      <td>98.000000</td>\n",
       "    </tr>\n",
       "    <tr>\n",
       "      <th>50%</th>\n",
       "      <td>28.000000</td>\n",
       "      <td>120.000000</td>\n",
       "      <td>80.000000</td>\n",
       "      <td>82.000000</td>\n",
       "      <td>18.000000</td>\n",
       "      <td>98.000000</td>\n",
       "      <td>45.000000</td>\n",
       "      <td>151.000000</td>\n",
       "      <td>99.000000</td>\n",
       "    </tr>\n",
       "    <tr>\n",
       "      <th>75%</th>\n",
       "      <td>47.000000</td>\n",
       "      <td>120.000000</td>\n",
       "      <td>80.000000</td>\n",
       "      <td>86.000000</td>\n",
       "      <td>18.000000</td>\n",
       "      <td>98.200000</td>\n",
       "      <td>50.000000</td>\n",
       "      <td>151.000000</td>\n",
       "      <td>99.000000</td>\n",
       "    </tr>\n",
       "    <tr>\n",
       "      <th>max</th>\n",
       "      <td>100.000000</td>\n",
       "      <td>223.000000</td>\n",
       "      <td>146.000000</td>\n",
       "      <td>120.000000</td>\n",
       "      <td>30.000000</td>\n",
       "      <td>107.700000</td>\n",
       "      <td>180.000000</td>\n",
       "      <td>200.000000</td>\n",
       "      <td>100.000000</td>\n",
       "    </tr>\n",
       "  </tbody>\n",
       "</table>\n",
       "</div>"
      ],
      "text/plain": [
       "                AGE   SYSTOLIC_BP  DIASTOLIC_BP         PULSE  \\\n",
       "count  62366.000000  62366.000000  62366.000000  62366.000000   \n",
       "mean      30.880890    119.425697     78.772360     83.541978   \n",
       "std       20.599724      8.676262      5.781984      9.205772   \n",
       "min        0.000000     80.000000     50.000000     50.000000   \n",
       "25%       14.000000    120.000000     80.000000     78.000000   \n",
       "50%       28.000000    120.000000     80.000000     82.000000   \n",
       "75%       47.000000    120.000000     80.000000     86.000000   \n",
       "max      100.000000    223.000000    146.000000    120.000000   \n",
       "\n",
       "       RESPIRATION_RATE  BODY_TEMPERATURE   BODY_WEIGHT        HEIGHT  \\\n",
       "count      62366.000000      62366.000000  62366.000000  62366.000000   \n",
       "mean          18.724369         97.981415     43.026369    147.836538   \n",
       "std            2.098382          0.782968     16.003020     16.853247   \n",
       "min           13.000000         90.000000      0.410000     45.000000   \n",
       "25%           18.000000         98.000000     40.000000    151.000000   \n",
       "50%           18.000000         98.000000     45.000000    151.000000   \n",
       "75%           18.000000         98.200000     50.000000    151.000000   \n",
       "max           30.000000        107.700000    180.000000    200.000000   \n",
       "\n",
       "               SPO2  \n",
       "count  62366.000000  \n",
       "mean      98.399785  \n",
       "std        1.524062  \n",
       "min       80.000000  \n",
       "25%       98.000000  \n",
       "50%       99.000000  \n",
       "75%       99.000000  \n",
       "max      100.000000  "
      ]
     },
     "execution_count": 13,
     "metadata": {},
     "output_type": "execute_result"
    }
   ],
   "source": [
    "patients_df.describe()"
   ]
  },
  {
   "cell_type": "markdown",
   "metadata": {},
   "source": [
    "#### Categorizing BP"
   ]
  },
  {
   "cell_type": "code",
   "execution_count": 14,
   "metadata": {},
   "outputs": [
    {
     "name": "stderr",
     "output_type": "stream",
     "text": [
      "/home/ec2-user/anaconda3/envs/python3/lib/python3.6/site-packages/ipykernel/__main__.py:2: SettingWithCopyWarning: \n",
      "A value is trying to be set on a copy of a slice from a DataFrame\n",
      "\n",
      "See the caveats in the documentation: http://pandas.pydata.org/pandas-docs/stable/indexing.html#indexing-view-versus-copy\n",
      "  from ipykernel import kernelapp as app\n",
      "/home/ec2-user/anaconda3/envs/python3/lib/python3.6/site-packages/ipykernel/__main__.py:3: SettingWithCopyWarning: \n",
      "A value is trying to be set on a copy of a slice from a DataFrame\n",
      "\n",
      "See the caveats in the documentation: http://pandas.pydata.org/pandas-docs/stable/indexing.html#indexing-view-versus-copy\n",
      "  app.launch_new_instance()\n",
      "/home/ec2-user/anaconda3/envs/python3/lib/python3.6/site-packages/ipykernel/__main__.py:4: SettingWithCopyWarning: \n",
      "A value is trying to be set on a copy of a slice from a DataFrame\n",
      "\n",
      "See the caveats in the documentation: http://pandas.pydata.org/pandas-docs/stable/indexing.html#indexing-view-versus-copy\n",
      "/home/ec2-user/anaconda3/envs/python3/lib/python3.6/site-packages/ipykernel/__main__.py:5: SettingWithCopyWarning: \n",
      "A value is trying to be set on a copy of a slice from a DataFrame\n",
      "\n",
      "See the caveats in the documentation: http://pandas.pydata.org/pandas-docs/stable/indexing.html#indexing-view-versus-copy\n",
      "/home/ec2-user/anaconda3/envs/python3/lib/python3.6/site-packages/ipykernel/__main__.py:6: SettingWithCopyWarning: \n",
      "A value is trying to be set on a copy of a slice from a DataFrame\n",
      "\n",
      "See the caveats in the documentation: http://pandas.pydata.org/pandas-docs/stable/indexing.html#indexing-view-versus-copy\n",
      "/home/ec2-user/anaconda3/envs/python3/lib/python3.6/site-packages/ipykernel/__main__.py:7: SettingWithCopyWarning: \n",
      "A value is trying to be set on a copy of a slice from a DataFrame\n",
      "\n",
      "See the caveats in the documentation: http://pandas.pydata.org/pandas-docs/stable/indexing.html#indexing-view-versus-copy\n"
     ]
    }
   ],
   "source": [
    "patients_df['blood_pressure']=0\n",
    "patients_df['blood_pressure'][(patients_df.SYSTOLIC_BP<90) | (patients_df.DIASTOLIC_BP<60)] = 0\n",
    "patients_df['blood_pressure'][((patients_df.SYSTOLIC_BP>=90) & (patients_df.SYSTOLIC_BP<=120)) & ((patients_df.DIASTOLIC_BP>=60) & (patients_df.DIASTOLIC_BP<=80))] = 1\n",
    "patients_df['blood_pressure'][((patients_df.SYSTOLIC_BP>120) & (patients_df.SYSTOLIC_BP<130)) & ((patients_df.DIASTOLIC_BP>=60) & (patients_df.DIASTOLIC_BP<=80))] = 2\n",
    "patients_df['blood_pressure'][((patients_df.SYSTOLIC_BP>=130) & (patients_df.SYSTOLIC_BP<140)) | ((patients_df.DIASTOLIC_BP>80) & (patients_df.DIASTOLIC_BP<90))] = 3\n",
    "patients_df['blood_pressure'][((patients_df.SYSTOLIC_BP>=140) & (patients_df.SYSTOLIC_BP<180)) | ((patients_df.DIASTOLIC_BP>=90) & (patients_df.DIASTOLIC_BP<120))] = 4\n",
    "patients_df['blood_pressure'][(patients_df.SYSTOLIC_BP>=180) | (patients_df.DIASTOLIC_BP>=120)] = 5"
   ]
  },
  {
   "cell_type": "code",
   "execution_count": 15,
   "metadata": {},
   "outputs": [
    {
     "data": {
      "text/plain": [
       "1    89.348363\n",
       "4     4.896899\n",
       "3     4.409454\n",
       "2     0.894718\n",
       "5     0.266171\n",
       "0     0.184395\n",
       "Name: blood_pressure, dtype: float64"
      ]
     },
     "execution_count": 15,
     "metadata": {},
     "output_type": "execute_result"
    }
   ],
   "source": [
    "patients_df['blood_pressure'].value_counts(normalize=True)*100"
   ]
  },
  {
   "cell_type": "markdown",
   "metadata": {},
   "source": [
    "#### Categorizing pulse rate"
   ]
  },
  {
   "cell_type": "code",
   "execution_count": 16,
   "metadata": {},
   "outputs": [
    {
     "name": "stderr",
     "output_type": "stream",
     "text": [
      "/home/ec2-user/anaconda3/envs/python3/lib/python3.6/site-packages/ipykernel/__main__.py:2: SettingWithCopyWarning: \n",
      "A value is trying to be set on a copy of a slice from a DataFrame\n",
      "\n",
      "See the caveats in the documentation: http://pandas.pydata.org/pandas-docs/stable/indexing.html#indexing-view-versus-copy\n",
      "  from ipykernel import kernelapp as app\n",
      "/home/ec2-user/anaconda3/envs/python3/lib/python3.6/site-packages/ipykernel/__main__.py:3: SettingWithCopyWarning: \n",
      "A value is trying to be set on a copy of a slice from a DataFrame\n",
      "\n",
      "See the caveats in the documentation: http://pandas.pydata.org/pandas-docs/stable/indexing.html#indexing-view-versus-copy\n",
      "  app.launch_new_instance()\n",
      "/home/ec2-user/anaconda3/envs/python3/lib/python3.6/site-packages/ipykernel/__main__.py:4: SettingWithCopyWarning: \n",
      "A value is trying to be set on a copy of a slice from a DataFrame\n",
      "\n",
      "See the caveats in the documentation: http://pandas.pydata.org/pandas-docs/stable/indexing.html#indexing-view-versus-copy\n"
     ]
    }
   ],
   "source": [
    "patients_df['pulse_rate_categorized']=0\n",
    "patients_df['pulse_rate_categorized'][patients_df.PULSE<60]=1\n",
    "patients_df['pulse_rate_categorized'][(patients_df.PULSE>=60) & (patients_df.PULSE<=100)]=2\n",
    "patients_df['pulse_rate_categorized'][patients_df.PULSE>100]=3"
   ]
  },
  {
   "cell_type": "code",
   "execution_count": 17,
   "metadata": {},
   "outputs": [
    {
     "data": {
      "text/plain": [
       "2    93.416285\n",
       "3     6.408941\n",
       "1     0.174775\n",
       "Name: pulse_rate_categorized, dtype: float64"
      ]
     },
     "execution_count": 17,
     "metadata": {},
     "output_type": "execute_result"
    }
   ],
   "source": [
    "patients_df.pulse_rate_categorized.value_counts(normalize=True)*100"
   ]
  },
  {
   "cell_type": "markdown",
   "metadata": {},
   "source": [
    "#### Categorizing respiration rate"
   ]
  },
  {
   "cell_type": "code",
   "execution_count": 18,
   "metadata": {},
   "outputs": [
    {
     "name": "stderr",
     "output_type": "stream",
     "text": [
      "/home/ec2-user/anaconda3/envs/python3/lib/python3.6/site-packages/ipykernel/__main__.py:2: SettingWithCopyWarning: \n",
      "A value is trying to be set on a copy of a slice from a DataFrame\n",
      "\n",
      "See the caveats in the documentation: http://pandas.pydata.org/pandas-docs/stable/indexing.html#indexing-view-versus-copy\n",
      "  from ipykernel import kernelapp as app\n",
      "/home/ec2-user/anaconda3/envs/python3/lib/python3.6/site-packages/ipykernel/__main__.py:3: SettingWithCopyWarning: \n",
      "A value is trying to be set on a copy of a slice from a DataFrame\n",
      "\n",
      "See the caveats in the documentation: http://pandas.pydata.org/pandas-docs/stable/indexing.html#indexing-view-versus-copy\n",
      "  app.launch_new_instance()\n",
      "/home/ec2-user/anaconda3/envs/python3/lib/python3.6/site-packages/ipykernel/__main__.py:4: SettingWithCopyWarning: \n",
      "A value is trying to be set on a copy of a slice from a DataFrame\n",
      "\n",
      "See the caveats in the documentation: http://pandas.pydata.org/pandas-docs/stable/indexing.html#indexing-view-versus-copy\n"
     ]
    }
   ],
   "source": [
    "patients_df['respiration_rate_categorized']=0\n",
    "patients_df['respiration_rate_categorized'][patients_df.RESPIRATION_RATE<16]=0\n",
    "patients_df['respiration_rate_categorized'][(patients_df.RESPIRATION_RATE>=16) & (patients_df.RESPIRATION_RATE<=20)]=1\n",
    "patients_df['respiration_rate_categorized'][patients_df.RESPIRATION_RATE>20]=2"
   ]
  },
  {
   "cell_type": "code",
   "execution_count": 19,
   "metadata": {},
   "outputs": [
    {
     "data": {
      "text/plain": [
       "1    88.578713\n",
       "2    11.082962\n",
       "0     0.338325\n",
       "Name: respiration_rate_categorized, dtype: float64"
      ]
     },
     "execution_count": 19,
     "metadata": {},
     "output_type": "execute_result"
    }
   ],
   "source": [
    "patients_df.respiration_rate_categorized.value_counts(normalize=True)*100"
   ]
  },
  {
   "cell_type": "markdown",
   "metadata": {},
   "source": [
    "#### Categorizing SPO2"
   ]
  },
  {
   "cell_type": "code",
   "execution_count": 20,
   "metadata": {},
   "outputs": [
    {
     "name": "stderr",
     "output_type": "stream",
     "text": [
      "/home/ec2-user/anaconda3/envs/python3/lib/python3.6/site-packages/ipykernel/__main__.py:2: SettingWithCopyWarning: \n",
      "A value is trying to be set on a copy of a slice from a DataFrame\n",
      "\n",
      "See the caveats in the documentation: http://pandas.pydata.org/pandas-docs/stable/indexing.html#indexing-view-versus-copy\n",
      "  from ipykernel import kernelapp as app\n",
      "/home/ec2-user/anaconda3/envs/python3/lib/python3.6/site-packages/ipykernel/__main__.py:3: SettingWithCopyWarning: \n",
      "A value is trying to be set on a copy of a slice from a DataFrame\n",
      "\n",
      "See the caveats in the documentation: http://pandas.pydata.org/pandas-docs/stable/indexing.html#indexing-view-versus-copy\n",
      "  app.launch_new_instance()\n"
     ]
    }
   ],
   "source": [
    "patients_df['SPO2_categorized']=0\n",
    "patients_df['SPO2_categorized'][patients_df.SPO2>=95]=1\n",
    "patients_df['SPO2_categorized'][patients_df.SPO2<95]=0"
   ]
  },
  {
   "cell_type": "code",
   "execution_count": 21,
   "metadata": {},
   "outputs": [
    {
     "data": {
      "text/plain": [
       "1    97.918738\n",
       "0     2.081262\n",
       "Name: SPO2_categorized, dtype: float64"
      ]
     },
     "execution_count": 21,
     "metadata": {},
     "output_type": "execute_result"
    }
   ],
   "source": [
    "patients_df.SPO2_categorized.value_counts(normalize=True)*100"
   ]
  },
  {
   "cell_type": "markdown",
   "metadata": {},
   "source": [
    "<b>For symptoms, currently working with only those with symptom ID's</b>"
   ]
  },
  {
   "cell_type": "code",
   "execution_count": 22,
   "metadata": {},
   "outputs": [
    {
     "data": {
      "text/plain": [
       "(35791, 24)"
      ]
     },
     "execution_count": 22,
     "metadata": {},
     "output_type": "execute_result"
    }
   ],
   "source": [
    "patients_df[patients_df.SYMPTOM_ID.notnull()].shape"
   ]
  },
  {
   "cell_type": "code",
   "execution_count": 23,
   "metadata": {},
   "outputs": [],
   "source": [
    "patients_df_symptomId = patients_df[patients_df.SYMPTOM_ID.notnull()]"
   ]
  },
  {
   "cell_type": "code",
   "execution_count": 24,
   "metadata": {},
   "outputs": [
    {
     "data": {
      "text/html": [
       "<div>\n",
       "<style scoped>\n",
       "    .dataframe tbody tr th:only-of-type {\n",
       "        vertical-align: middle;\n",
       "    }\n",
       "\n",
       "    .dataframe tbody tr th {\n",
       "        vertical-align: top;\n",
       "    }\n",
       "\n",
       "    .dataframe thead th {\n",
       "        text-align: right;\n",
       "    }\n",
       "</style>\n",
       "<table border=\"1\" class=\"dataframe\">\n",
       "  <thead>\n",
       "    <tr style=\"text-align: right;\">\n",
       "      <th></th>\n",
       "      <th>PATIENT_VISIT_ID</th>\n",
       "      <th>GENDER</th>\n",
       "      <th>AGE</th>\n",
       "      <th>STATE_NAME</th>\n",
       "      <th>DISTRICT_NAME</th>\n",
       "      <th>CENTER_SHORT_NAME</th>\n",
       "      <th>SYSTOLIC_BP</th>\n",
       "      <th>DIASTOLIC_BP</th>\n",
       "      <th>PULSE</th>\n",
       "      <th>RESPIRATION_RATE</th>\n",
       "      <th>...</th>\n",
       "      <th>SYMPTOM_ID</th>\n",
       "      <th>SYMPTOM_DESC</th>\n",
       "      <th>MEDICAL_TEST_NAME</th>\n",
       "      <th>DISEASE_ID</th>\n",
       "      <th>REFERRED</th>\n",
       "      <th>age_binned</th>\n",
       "      <th>blood_pressure</th>\n",
       "      <th>pulse_rate_categorized</th>\n",
       "      <th>respiration_rate_categorized</th>\n",
       "      <th>SPO2_categorized</th>\n",
       "    </tr>\n",
       "  </thead>\n",
       "  <tbody>\n",
       "    <tr>\n",
       "      <th>1</th>\n",
       "      <td>PV000000554650</td>\n",
       "      <td>Male</td>\n",
       "      <td>42.0</td>\n",
       "      <td>Rajasthan</td>\n",
       "      <td>Jhunjhunun</td>\n",
       "      <td>B D K Hospital Jhunjhunu</td>\n",
       "      <td>138.0</td>\n",
       "      <td>96.0</td>\n",
       "      <td>86.0</td>\n",
       "      <td>18.0</td>\n",
       "      <td>...</td>\n",
       "      <td>SYMP00099~SYMP00499</td>\n",
       "      <td>NaN</td>\n",
       "      <td>CBC~LIVER FUNCTION TEST (LFT)</td>\n",
       "      <td>DISE00447~DISE02143</td>\n",
       "      <td>N</td>\n",
       "      <td>9</td>\n",
       "      <td>4</td>\n",
       "      <td>2</td>\n",
       "      <td>1</td>\n",
       "      <td>1</td>\n",
       "    </tr>\n",
       "    <tr>\n",
       "      <th>5</th>\n",
       "      <td>PV000000554890</td>\n",
       "      <td>Male</td>\n",
       "      <td>63.0</td>\n",
       "      <td>Rajasthan</td>\n",
       "      <td>Ajmer</td>\n",
       "      <td>Y N Hospital Kishangarh</td>\n",
       "      <td>120.0</td>\n",
       "      <td>80.0</td>\n",
       "      <td>74.0</td>\n",
       "      <td>26.0</td>\n",
       "      <td>...</td>\n",
       "      <td>SYMP04504</td>\n",
       "      <td>NaN</td>\n",
       "      <td>UGI ENDOSCOPY</td>\n",
       "      <td>DISE02045</td>\n",
       "      <td>N</td>\n",
       "      <td>13</td>\n",
       "      <td>1</td>\n",
       "      <td>2</td>\n",
       "      <td>2</td>\n",
       "      <td>1</td>\n",
       "    </tr>\n",
       "    <tr>\n",
       "      <th>7</th>\n",
       "      <td>PV000000554912</td>\n",
       "      <td>Male</td>\n",
       "      <td>65.5</td>\n",
       "      <td>Rajasthan</td>\n",
       "      <td>Dholpur</td>\n",
       "      <td>Bari</td>\n",
       "      <td>146.0</td>\n",
       "      <td>100.0</td>\n",
       "      <td>89.0</td>\n",
       "      <td>18.0</td>\n",
       "      <td>...</td>\n",
       "      <td>SYMP00875</td>\n",
       "      <td>NaN</td>\n",
       "      <td>ECG</td>\n",
       "      <td>DISE02897</td>\n",
       "      <td>N</td>\n",
       "      <td>14</td>\n",
       "      <td>4</td>\n",
       "      <td>2</td>\n",
       "      <td>1</td>\n",
       "      <td>1</td>\n",
       "    </tr>\n",
       "    <tr>\n",
       "      <th>9</th>\n",
       "      <td>PV000000554982</td>\n",
       "      <td>Female</td>\n",
       "      <td>26.0</td>\n",
       "      <td>Chhattisgarh</td>\n",
       "      <td>Dantewada</td>\n",
       "      <td>Nerli</td>\n",
       "      <td>110.0</td>\n",
       "      <td>80.0</td>\n",
       "      <td>84.0</td>\n",
       "      <td>22.0</td>\n",
       "      <td>...</td>\n",
       "      <td>SYMP03453</td>\n",
       "      <td>NaN</td>\n",
       "      <td>XRAY LSSPINE AP AND LAT</td>\n",
       "      <td>DISE02534</td>\n",
       "      <td>N</td>\n",
       "      <td>6</td>\n",
       "      <td>1</td>\n",
       "      <td>2</td>\n",
       "      <td>2</td>\n",
       "      <td>1</td>\n",
       "    </tr>\n",
       "    <tr>\n",
       "      <th>20</th>\n",
       "      <td>PV000000555256</td>\n",
       "      <td>Male</td>\n",
       "      <td>20.0</td>\n",
       "      <td>Rajasthan</td>\n",
       "      <td>Dholpur</td>\n",
       "      <td>Sadar Hospital Dholpur</td>\n",
       "      <td>120.0</td>\n",
       "      <td>80.0</td>\n",
       "      <td>82.0</td>\n",
       "      <td>18.0</td>\n",
       "      <td>...</td>\n",
       "      <td>SYMP01844</td>\n",
       "      <td>NaN</td>\n",
       "      <td>CBC~LIVER FUNCTION TEST (LFT)~RENAL FUNCTION T...</td>\n",
       "      <td>DISE05609</td>\n",
       "      <td>N</td>\n",
       "      <td>4</td>\n",
       "      <td>1</td>\n",
       "      <td>2</td>\n",
       "      <td>1</td>\n",
       "      <td>1</td>\n",
       "    </tr>\n",
       "  </tbody>\n",
       "</table>\n",
       "<p>5 rows × 24 columns</p>\n",
       "</div>"
      ],
      "text/plain": [
       "   PATIENT_VISIT_ID  GENDER   AGE    STATE_NAME DISTRICT_NAME  \\\n",
       "1    PV000000554650    Male  42.0     Rajasthan    Jhunjhunun   \n",
       "5    PV000000554890    Male  63.0     Rajasthan         Ajmer   \n",
       "7    PV000000554912    Male  65.5     Rajasthan       Dholpur   \n",
       "9    PV000000554982  Female  26.0  Chhattisgarh     Dantewada   \n",
       "20   PV000000555256    Male  20.0     Rajasthan       Dholpur   \n",
       "\n",
       "           CENTER_SHORT_NAME  SYSTOLIC_BP  DIASTOLIC_BP  PULSE  \\\n",
       "1   B D K Hospital Jhunjhunu        138.0          96.0   86.0   \n",
       "5    Y N Hospital Kishangarh        120.0          80.0   74.0   \n",
       "7                       Bari        146.0         100.0   89.0   \n",
       "9                      Nerli        110.0          80.0   84.0   \n",
       "20    Sadar Hospital Dholpur        120.0          80.0   82.0   \n",
       "\n",
       "    RESPIRATION_RATE  ...           SYMPTOM_ID  SYMPTOM_DESC  \\\n",
       "1               18.0  ...  SYMP00099~SYMP00499           NaN   \n",
       "5               26.0  ...            SYMP04504           NaN   \n",
       "7               18.0  ...            SYMP00875           NaN   \n",
       "9               22.0  ...            SYMP03453           NaN   \n",
       "20              18.0  ...            SYMP01844           NaN   \n",
       "\n",
       "                                    MEDICAL_TEST_NAME           DISEASE_ID  \\\n",
       "1                       CBC~LIVER FUNCTION TEST (LFT)  DISE00447~DISE02143   \n",
       "5                                       UGI ENDOSCOPY            DISE02045   \n",
       "7                                                 ECG            DISE02897   \n",
       "9                             XRAY LSSPINE AP AND LAT            DISE02534   \n",
       "20  CBC~LIVER FUNCTION TEST (LFT)~RENAL FUNCTION T...            DISE05609   \n",
       "\n",
       "   REFERRED age_binned blood_pressure pulse_rate_categorized  \\\n",
       "1         N          9              4                      2   \n",
       "5         N         13              1                      2   \n",
       "7         N         14              4                      2   \n",
       "9         N          6              1                      2   \n",
       "20        N          4              1                      2   \n",
       "\n",
       "   respiration_rate_categorized SPO2_categorized  \n",
       "1                             1                1  \n",
       "5                             2                1  \n",
       "7                             1                1  \n",
       "9                             2                1  \n",
       "20                            1                1  \n",
       "\n",
       "[5 rows x 24 columns]"
      ]
     },
     "execution_count": 24,
     "metadata": {},
     "output_type": "execute_result"
    }
   ],
   "source": [
    "patients_df_symptomId.head()"
   ]
  },
  {
   "cell_type": "code",
   "execution_count": 25,
   "metadata": {},
   "outputs": [
    {
     "name": "stderr",
     "output_type": "stream",
     "text": [
      "/home/ec2-user/anaconda3/envs/python3/lib/python3.6/site-packages/pandas/core/frame.py:3940: SettingWithCopyWarning: \n",
      "A value is trying to be set on a copy of a slice from a DataFrame\n",
      "\n",
      "See the caveats in the documentation: http://pandas.pydata.org/pandas-docs/stable/indexing.html#indexing-view-versus-copy\n",
      "  errors=errors)\n"
     ]
    }
   ],
   "source": [
    "patients_df_symptomId.drop(columns=['SYMPTOM_DESC'],inplace=True)"
   ]
  },
  {
   "cell_type": "markdown",
   "metadata": {},
   "source": [
    "#### Symptoms and diseases"
   ]
  },
  {
   "cell_type": "code",
   "execution_count": 26,
   "metadata": {},
   "outputs": [],
   "source": [
    "symptoms = pd.read_csv('SYMPTOM MASTER.csv',encoding = \"ISO-8859-1\")"
   ]
  },
  {
   "cell_type": "code",
   "execution_count": 27,
   "metadata": {},
   "outputs": [
    {
     "data": {
      "text/html": [
       "<div>\n",
       "<style scoped>\n",
       "    .dataframe tbody tr th:only-of-type {\n",
       "        vertical-align: middle;\n",
       "    }\n",
       "\n",
       "    .dataframe tbody tr th {\n",
       "        vertical-align: top;\n",
       "    }\n",
       "\n",
       "    .dataframe thead th {\n",
       "        text-align: right;\n",
       "    }\n",
       "</style>\n",
       "<table border=\"1\" class=\"dataframe\">\n",
       "  <thead>\n",
       "    <tr style=\"text-align: right;\">\n",
       "      <th></th>\n",
       "      <th>SYMPTOM_ID</th>\n",
       "      <th>SYMPTOM_NAME</th>\n",
       "      <th>GENDER</th>\n",
       "    </tr>\n",
       "  </thead>\n",
       "  <tbody>\n",
       "    <tr>\n",
       "      <th>0</th>\n",
       "      <td>SYMP04148</td>\n",
       "      <td>Increased Urinary Infection</td>\n",
       "      <td>C</td>\n",
       "    </tr>\n",
       "    <tr>\n",
       "      <th>1</th>\n",
       "      <td>SYMP04158</td>\n",
       "      <td>Increased Vocal Resonance</td>\n",
       "      <td>C</td>\n",
       "    </tr>\n",
       "    <tr>\n",
       "      <th>2</th>\n",
       "      <td>SYMP00998</td>\n",
       "      <td>indentation on either side of the nasal tip</td>\n",
       "      <td>C</td>\n",
       "    </tr>\n",
       "    <tr>\n",
       "      <th>3</th>\n",
       "      <td>SYMP00130</td>\n",
       "      <td>Excessive Burping/ Belching</td>\n",
       "      <td>C</td>\n",
       "    </tr>\n",
       "    <tr>\n",
       "      <th>4</th>\n",
       "      <td>SYMP00135</td>\n",
       "      <td>Indigestion</td>\n",
       "      <td>C</td>\n",
       "    </tr>\n",
       "  </tbody>\n",
       "</table>\n",
       "</div>"
      ],
      "text/plain": [
       "  SYMPTOM_ID                                 SYMPTOM_NAME GENDER\n",
       "0  SYMP04148                  Increased Urinary Infection      C\n",
       "1  SYMP04158                    Increased Vocal Resonance      C\n",
       "2  SYMP00998  indentation on either side of the nasal tip      C\n",
       "3  SYMP00130                  Excessive Burping/ Belching      C\n",
       "4  SYMP00135                                  Indigestion      C"
      ]
     },
     "execution_count": 27,
     "metadata": {},
     "output_type": "execute_result"
    }
   ],
   "source": [
    "symptoms.head()"
   ]
  },
  {
   "cell_type": "code",
   "execution_count": 28,
   "metadata": {},
   "outputs": [],
   "source": [
    "diseases = pd.read_csv('disease master.csv',encoding=\"ISO-8859-1\")"
   ]
  },
  {
   "cell_type": "code",
   "execution_count": 29,
   "metadata": {},
   "outputs": [
    {
     "data": {
      "text/html": [
       "<div>\n",
       "<style scoped>\n",
       "    .dataframe tbody tr th:only-of-type {\n",
       "        vertical-align: middle;\n",
       "    }\n",
       "\n",
       "    .dataframe tbody tr th {\n",
       "        vertical-align: top;\n",
       "    }\n",
       "\n",
       "    .dataframe thead th {\n",
       "        text-align: right;\n",
       "    }\n",
       "</style>\n",
       "<table border=\"1\" class=\"dataframe\">\n",
       "  <thead>\n",
       "    <tr style=\"text-align: right;\">\n",
       "      <th></th>\n",
       "      <th>DISEASE_ID</th>\n",
       "      <th>DISEASE_NAME</th>\n",
       "      <th>DISEASE_DESCRIPTION</th>\n",
       "      <th>DISEASE_LOCATION_ID</th>\n",
       "      <th>CREATE_DOCTOR_ID</th>\n",
       "      <th>CREATE_DATE</th>\n",
       "      <th>CREATE_FROM_HOSPITAL_ID</th>\n",
       "      <th>ICD_10_TYPE</th>\n",
       "      <th>ICD_10_BRANCH</th>\n",
       "      <th>ICD_10_ROOT</th>\n",
       "      <th>...</th>\n",
       "      <th>DISEASE_WEIGHTAGE</th>\n",
       "      <th>USER_ID</th>\n",
       "      <th>USER_DATE</th>\n",
       "      <th>MACHINE_IP_ADDRESS</th>\n",
       "      <th>MIN_LL</th>\n",
       "      <th>MAX_LL</th>\n",
       "      <th>MIN_UL</th>\n",
       "      <th>MAX_UL</th>\n",
       "      <th>AVILABLE_FLAG</th>\n",
       "      <th>CENTER_FLAG</th>\n",
       "    </tr>\n",
       "  </thead>\n",
       "  <tbody>\n",
       "    <tr>\n",
       "      <th>0</th>\n",
       "      <td>DISE02063</td>\n",
       "      <td>Genetal Prolapse - Rectocele</td>\n",
       "      <td>Genetal Prolapse - Rectocele</td>\n",
       "      <td>GLID00306</td>\n",
       "      <td>NaN</td>\n",
       "      <td>NaN</td>\n",
       "      <td>NaN</td>\n",
       "      <td>NaN</td>\n",
       "      <td>NaN</td>\n",
       "      <td>NaN</td>\n",
       "      <td>...</td>\n",
       "      <td>0.0</td>\n",
       "      <td>NaN</td>\n",
       "      <td>NaN</td>\n",
       "      <td>NaN</td>\n",
       "      <td>0.0</td>\n",
       "      <td>0.0</td>\n",
       "      <td>0.0</td>\n",
       "      <td>150.0</td>\n",
       "      <td>N</td>\n",
       "      <td>2</td>\n",
       "    </tr>\n",
       "    <tr>\n",
       "      <th>1</th>\n",
       "      <td>DISE02064</td>\n",
       "      <td>Genetal Prolapse - Uterine Discent</td>\n",
       "      <td>Genetal Prolapse - Uterine Discent</td>\n",
       "      <td>GLID00306</td>\n",
       "      <td>NaN</td>\n",
       "      <td>NaN</td>\n",
       "      <td>NaN</td>\n",
       "      <td>NaN</td>\n",
       "      <td>NaN</td>\n",
       "      <td>NaN</td>\n",
       "      <td>...</td>\n",
       "      <td>0.0</td>\n",
       "      <td>NaN</td>\n",
       "      <td>NaN</td>\n",
       "      <td>NaN</td>\n",
       "      <td>0.0</td>\n",
       "      <td>0.0</td>\n",
       "      <td>0.0</td>\n",
       "      <td>150.0</td>\n",
       "      <td>N</td>\n",
       "      <td>2</td>\n",
       "    </tr>\n",
       "    <tr>\n",
       "      <th>2</th>\n",
       "      <td>DISE02065</td>\n",
       "      <td>Genetal Prolapse - Enterocele</td>\n",
       "      <td>Genetal Prolapse - Enterocele</td>\n",
       "      <td>GLID00306</td>\n",
       "      <td>NaN</td>\n",
       "      <td>NaN</td>\n",
       "      <td>NaN</td>\n",
       "      <td>NaN</td>\n",
       "      <td>NaN</td>\n",
       "      <td>NaN</td>\n",
       "      <td>...</td>\n",
       "      <td>0.0</td>\n",
       "      <td>NaN</td>\n",
       "      <td>NaN</td>\n",
       "      <td>NaN</td>\n",
       "      <td>0.0</td>\n",
       "      <td>0.0</td>\n",
       "      <td>0.0</td>\n",
       "      <td>150.0</td>\n",
       "      <td>N</td>\n",
       "      <td>2</td>\n",
       "    </tr>\n",
       "    <tr>\n",
       "      <th>3</th>\n",
       "      <td>DISE02066</td>\n",
       "      <td>Genetal Prolapse - Relax Vaginal Outlet</td>\n",
       "      <td>Genetal Prolapse - Relax Vaginal Outlet</td>\n",
       "      <td>GLID00306</td>\n",
       "      <td>NaN</td>\n",
       "      <td>NaN</td>\n",
       "      <td>NaN</td>\n",
       "      <td>NaN</td>\n",
       "      <td>NaN</td>\n",
       "      <td>NaN</td>\n",
       "      <td>...</td>\n",
       "      <td>0.0</td>\n",
       "      <td>NaN</td>\n",
       "      <td>NaN</td>\n",
       "      <td>NaN</td>\n",
       "      <td>0.0</td>\n",
       "      <td>0.0</td>\n",
       "      <td>0.0</td>\n",
       "      <td>150.0</td>\n",
       "      <td>N</td>\n",
       "      <td>2</td>\n",
       "    </tr>\n",
       "    <tr>\n",
       "      <th>4</th>\n",
       "      <td>DISE02067</td>\n",
       "      <td>Endometrial Cancer</td>\n",
       "      <td>Endometrial Cancer</td>\n",
       "      <td>GLID00306</td>\n",
       "      <td>NaN</td>\n",
       "      <td>NaN</td>\n",
       "      <td>NaN</td>\n",
       "      <td>NaN</td>\n",
       "      <td>NaN</td>\n",
       "      <td>NaN</td>\n",
       "      <td>...</td>\n",
       "      <td>0.0</td>\n",
       "      <td>NaN</td>\n",
       "      <td>NaN</td>\n",
       "      <td>NaN</td>\n",
       "      <td>0.0</td>\n",
       "      <td>0.0</td>\n",
       "      <td>0.0</td>\n",
       "      <td>150.0</td>\n",
       "      <td>Y</td>\n",
       "      <td>2</td>\n",
       "    </tr>\n",
       "  </tbody>\n",
       "</table>\n",
       "<p>5 rows × 23 columns</p>\n",
       "</div>"
      ],
      "text/plain": [
       "  DISEASE_ID                             DISEASE_NAME  \\\n",
       "0  DISE02063             Genetal Prolapse - Rectocele   \n",
       "1  DISE02064       Genetal Prolapse - Uterine Discent   \n",
       "2  DISE02065            Genetal Prolapse - Enterocele   \n",
       "3  DISE02066  Genetal Prolapse - Relax Vaginal Outlet   \n",
       "4  DISE02067                       Endometrial Cancer   \n",
       "\n",
       "                       DISEASE_DESCRIPTION DISEASE_LOCATION_ID  \\\n",
       "0             Genetal Prolapse - Rectocele           GLID00306   \n",
       "1       Genetal Prolapse - Uterine Discent           GLID00306   \n",
       "2            Genetal Prolapse - Enterocele           GLID00306   \n",
       "3  Genetal Prolapse - Relax Vaginal Outlet           GLID00306   \n",
       "4                       Endometrial Cancer           GLID00306   \n",
       "\n",
       "  CREATE_DOCTOR_ID CREATE_DATE CREATE_FROM_HOSPITAL_ID ICD_10_TYPE  \\\n",
       "0              NaN         NaN                     NaN         NaN   \n",
       "1              NaN         NaN                     NaN         NaN   \n",
       "2              NaN         NaN                     NaN         NaN   \n",
       "3              NaN         NaN                     NaN         NaN   \n",
       "4              NaN         NaN                     NaN         NaN   \n",
       "\n",
       "  ICD_10_BRANCH ICD_10_ROOT  ...  DISEASE_WEIGHTAGE USER_ID USER_DATE  \\\n",
       "0           NaN         NaN  ...                0.0     NaN       NaN   \n",
       "1           NaN         NaN  ...                0.0     NaN       NaN   \n",
       "2           NaN         NaN  ...                0.0     NaN       NaN   \n",
       "3           NaN         NaN  ...                0.0     NaN       NaN   \n",
       "4           NaN         NaN  ...                0.0     NaN       NaN   \n",
       "\n",
       "   MACHINE_IP_ADDRESS MIN_LL MAX_LL MIN_UL  MAX_UL  AVILABLE_FLAG  CENTER_FLAG  \n",
       "0                 NaN    0.0    0.0    0.0   150.0              N            2  \n",
       "1                 NaN    0.0    0.0    0.0   150.0              N            2  \n",
       "2                 NaN    0.0    0.0    0.0   150.0              N            2  \n",
       "3                 NaN    0.0    0.0    0.0   150.0              N            2  \n",
       "4                 NaN    0.0    0.0    0.0   150.0              Y            2  \n",
       "\n",
       "[5 rows x 23 columns]"
      ]
     },
     "execution_count": 29,
     "metadata": {},
     "output_type": "execute_result"
    }
   ],
   "source": [
    "diseases.head()"
   ]
  },
  {
   "cell_type": "code",
   "execution_count": 30,
   "metadata": {},
   "outputs": [
    {
     "data": {
      "text/plain": [
       "(18460, 23)"
      ]
     },
     "execution_count": 30,
     "metadata": {},
     "output_type": "execute_result"
    }
   ],
   "source": [
    "diseases.shape"
   ]
  },
  {
   "cell_type": "code",
   "execution_count": 31,
   "metadata": {},
   "outputs": [],
   "source": [
    "# symptom_ids_list = sorted(list(symptoms.SYMPTOM_ID))"
   ]
  },
  {
   "cell_type": "code",
   "execution_count": 32,
   "metadata": {},
   "outputs": [],
   "source": [
    "# symptom_count_df = pd.DataFrame(columns=['Symptom_id','Symptom_name','Count'])"
   ]
  },
  {
   "cell_type": "code",
   "execution_count": 33,
   "metadata": {},
   "outputs": [],
   "source": [
    "# for i,symptom_id in enumerate(symptom_ids_list):\n",
    "#     count = patients_df_symptomId[patients_df_symptomId.SYMPTOM_ID.str.contains(symptom_id)].shape[0]\n",
    "#     name = symptoms.SYMPTOM_NAME[symptoms.SYMPTOM_ID == symptom_id].tolist()[0]\n",
    "#     symptom_count_df.loc[i] = [symptom_id,name,count]"
   ]
  },
  {
   "cell_type": "code",
   "execution_count": 34,
   "metadata": {},
   "outputs": [],
   "source": [
    "# symptom_count_df.sort_values(by=['Count'],ascending=False)[symptom_count_df.Count>0]"
   ]
  },
  {
   "cell_type": "code",
   "execution_count": 35,
   "metadata": {},
   "outputs": [],
   "source": [
    "# disease_ids_list = sorted(list(diseases.DISEASE_ID))"
   ]
  },
  {
   "cell_type": "code",
   "execution_count": 36,
   "metadata": {},
   "outputs": [],
   "source": [
    "# disease_count_df = pd.DataFrame(columns=['Disease_id','Disease_name','Count'])"
   ]
  },
  {
   "cell_type": "code",
   "execution_count": 37,
   "metadata": {},
   "outputs": [],
   "source": [
    "# for i,disease_id in enumerate(disease_ids_list):\n",
    "#     count = patients_df_symptomId[patients_df_symptomId.DISEASE_ID.str.contains(disease_id)].shape[0]\n",
    "#     name = diseases.DISEASE_NAME[diseases.DISEASE_ID == disease_id].tolist()[0]\n",
    "#     disease_count_df.loc[i] = [disease_id,name,count]"
   ]
  },
  {
   "cell_type": "code",
   "execution_count": 38,
   "metadata": {},
   "outputs": [],
   "source": [
    "# disease_count_df.sort_values(by=['Count'],ascending=False)[disease_count_df.Count>0]"
   ]
  },
  {
   "cell_type": "code",
   "execution_count": 39,
   "metadata": {},
   "outputs": [
    {
     "name": "stderr",
     "output_type": "stream",
     "text": [
      "/home/ec2-user/anaconda3/envs/python3/lib/python3.6/site-packages/pandas/core/generic.py:5096: SettingWithCopyWarning: \n",
      "A value is trying to be set on a copy of a slice from a DataFrame.\n",
      "Try using .loc[row_indexer,col_indexer] = value instead\n",
      "\n",
      "See the caveats in the documentation: http://pandas.pydata.org/pandas-docs/stable/indexing.html#indexing-view-versus-copy\n",
      "  self[name] = value\n"
     ]
    }
   ],
   "source": [
    "patients_df_symptomId.SYMPTOM_ID = (patients_df_symptomId.SYMPTOM_ID.str.split('~'))"
   ]
  },
  {
   "cell_type": "code",
   "execution_count": 40,
   "metadata": {},
   "outputs": [],
   "source": [
    "mlb_symtoms = MultiLabelBinarizer()"
   ]
  },
  {
   "cell_type": "code",
   "execution_count": 78,
   "metadata": {},
   "outputs": [
    {
     "name": "stderr",
     "output_type": "stream",
     "text": [
      "/home/ec2-user/anaconda3/envs/python3/lib/python3.6/site-packages/ipykernel/__main__.py:2: SettingWithCopyWarning: \n",
      "A value is trying to be set on a copy of a slice from a DataFrame.\n",
      "Try using .loc[row_indexer,col_indexer] = value instead\n",
      "\n",
      "See the caveats in the documentation: http://pandas.pydata.org/pandas-docs/stable/indexing.html#indexing-view-versus-copy\n",
      "  from ipykernel import kernelapp as app\n"
     ]
    }
   ],
   "source": [
    "symptoms_encoded = mlb_symtoms.fit_transform(patients_df_symptomId.SYMPTOM_ID)\n",
    "patients_df_symptomId['symptoms_encoded'] = symptoms_encoded.tolist()"
   ]
  },
  {
   "cell_type": "code",
   "execution_count": 42,
   "metadata": {},
   "outputs": [
    {
     "name": "stderr",
     "output_type": "stream",
     "text": [
      "/home/ec2-user/anaconda3/envs/python3/lib/python3.6/site-packages/pandas/core/generic.py:5096: SettingWithCopyWarning: \n",
      "A value is trying to be set on a copy of a slice from a DataFrame.\n",
      "Try using .loc[row_indexer,col_indexer] = value instead\n",
      "\n",
      "See the caveats in the documentation: http://pandas.pydata.org/pandas-docs/stable/indexing.html#indexing-view-versus-copy\n",
      "  self[name] = value\n"
     ]
    }
   ],
   "source": [
    "patients_df_symptomId.DISEASE_ID = (patients_df_symptomId.DISEASE_ID.str.split('~'))"
   ]
  },
  {
   "cell_type": "code",
   "execution_count": 43,
   "metadata": {},
   "outputs": [],
   "source": [
    "mlb_diseases = MultiLabelBinarizer()"
   ]
  },
  {
   "cell_type": "code",
   "execution_count": 79,
   "metadata": {},
   "outputs": [
    {
     "name": "stderr",
     "output_type": "stream",
     "text": [
      "/home/ec2-user/anaconda3/envs/python3/lib/python3.6/site-packages/ipykernel/__main__.py:2: SettingWithCopyWarning: \n",
      "A value is trying to be set on a copy of a slice from a DataFrame.\n",
      "Try using .loc[row_indexer,col_indexer] = value instead\n",
      "\n",
      "See the caveats in the documentation: http://pandas.pydata.org/pandas-docs/stable/indexing.html#indexing-view-versus-copy\n",
      "  from ipykernel import kernelapp as app\n"
     ]
    }
   ],
   "source": [
    "diseases_encoded = mlb_diseases.fit_transform(patients_df_symptomId.DISEASE_ID)\n",
    "patients_df_symptomId['diseases_encoded'] = diseases_encoded.tolist()"
   ]
  },
  {
   "cell_type": "markdown",
   "metadata": {},
   "source": [
    "<b>Finally, before moving on to training, categorizing gender and district name too</b>"
   ]
  },
  {
   "cell_type": "code",
   "execution_count": 46,
   "metadata": {},
   "outputs": [
    {
     "name": "stderr",
     "output_type": "stream",
     "text": [
      "/home/ec2-user/anaconda3/envs/python3/lib/python3.6/site-packages/ipykernel/__main__.py:1: SettingWithCopyWarning: \n",
      "A value is trying to be set on a copy of a slice from a DataFrame.\n",
      "Try using .loc[row_indexer,col_indexer] = value instead\n",
      "\n",
      "See the caveats in the documentation: http://pandas.pydata.org/pandas-docs/stable/indexing.html#indexing-view-versus-copy\n",
      "  if __name__ == '__main__':\n",
      "/home/ec2-user/anaconda3/envs/python3/lib/python3.6/site-packages/ipykernel/__main__.py:2: SettingWithCopyWarning: \n",
      "A value is trying to be set on a copy of a slice from a DataFrame\n",
      "\n",
      "See the caveats in the documentation: http://pandas.pydata.org/pandas-docs/stable/indexing.html#indexing-view-versus-copy\n",
      "  from ipykernel import kernelapp as app\n",
      "/home/ec2-user/anaconda3/envs/python3/lib/python3.6/site-packages/pandas/core/generic.py:8682: SettingWithCopyWarning: \n",
      "A value is trying to be set on a copy of a slice from a DataFrame\n",
      "\n",
      "See the caveats in the documentation: http://pandas.pydata.org/pandas-docs/stable/indexing.html#indexing-view-versus-copy\n",
      "  self._update_inplace(new_data)\n",
      "/home/ec2-user/anaconda3/envs/python3/lib/python3.6/site-packages/IPython/core/interactiveshell.py:2963: SettingWithCopyWarning: \n",
      "A value is trying to be set on a copy of a slice from a DataFrame\n",
      "\n",
      "See the caveats in the documentation: http://pandas.pydata.org/pandas-docs/stable/indexing.html#indexing-view-versus-copy\n",
      "  exec(code_obj, self.user_global_ns, self.user_ns)\n",
      "/home/ec2-user/anaconda3/envs/python3/lib/python3.6/site-packages/ipykernel/__main__.py:3: SettingWithCopyWarning: \n",
      "A value is trying to be set on a copy of a slice from a DataFrame\n",
      "\n",
      "See the caveats in the documentation: http://pandas.pydata.org/pandas-docs/stable/indexing.html#indexing-view-versus-copy\n",
      "  app.launch_new_instance()\n"
     ]
    }
   ],
   "source": [
    "patients_df_symptomId['gender_categorized'] = 0\n",
    "patients_df_symptomId['gender_categorized'][patients_df_symptomId.GENDER == 'Male'] = 0\n",
    "patients_df_symptomId['gender_categorized'][patients_df_symptomId.GENDER == 'Female'] = 1"
   ]
  },
  {
   "cell_type": "code",
   "execution_count": 53,
   "metadata": {},
   "outputs": [],
   "source": [
    "label_enc_district = LabelEncoder()"
   ]
  },
  {
   "cell_type": "code",
   "execution_count": 54,
   "metadata": {},
   "outputs": [
    {
     "name": "stderr",
     "output_type": "stream",
     "text": [
      "/home/ec2-user/anaconda3/envs/python3/lib/python3.6/site-packages/ipykernel/__main__.py:1: SettingWithCopyWarning: \n",
      "A value is trying to be set on a copy of a slice from a DataFrame.\n",
      "Try using .loc[row_indexer,col_indexer] = value instead\n",
      "\n",
      "See the caveats in the documentation: http://pandas.pydata.org/pandas-docs/stable/indexing.html#indexing-view-versus-copy\n",
      "  if __name__ == '__main__':\n"
     ]
    }
   ],
   "source": [
    "patients_df_symptomId['district_categorized'] = label_enc_district.fit_transform(patients_df_symptomId.DISTRICT_NAME)"
   ]
  },
  {
   "cell_type": "code",
   "execution_count": 55,
   "metadata": {},
   "outputs": [
    {
     "data": {
      "text/html": [
       "<div>\n",
       "<style scoped>\n",
       "    .dataframe tbody tr th:only-of-type {\n",
       "        vertical-align: middle;\n",
       "    }\n",
       "\n",
       "    .dataframe tbody tr th {\n",
       "        vertical-align: top;\n",
       "    }\n",
       "\n",
       "    .dataframe thead th {\n",
       "        text-align: right;\n",
       "    }\n",
       "</style>\n",
       "<table border=\"1\" class=\"dataframe\">\n",
       "  <thead>\n",
       "    <tr style=\"text-align: right;\">\n",
       "      <th></th>\n",
       "      <th>PATIENT_VISIT_ID</th>\n",
       "      <th>GENDER</th>\n",
       "      <th>AGE</th>\n",
       "      <th>STATE_NAME</th>\n",
       "      <th>DISTRICT_NAME</th>\n",
       "      <th>CENTER_SHORT_NAME</th>\n",
       "      <th>SYSTOLIC_BP</th>\n",
       "      <th>DIASTOLIC_BP</th>\n",
       "      <th>PULSE</th>\n",
       "      <th>RESPIRATION_RATE</th>\n",
       "      <th>...</th>\n",
       "      <th>REFERRED</th>\n",
       "      <th>age_binned</th>\n",
       "      <th>blood_pressure</th>\n",
       "      <th>pulse_rate_categorized</th>\n",
       "      <th>respiration_rate_categorized</th>\n",
       "      <th>SPO2_categorized</th>\n",
       "      <th>symtoms_encoded</th>\n",
       "      <th>diseases_encoded</th>\n",
       "      <th>gender_categorized</th>\n",
       "      <th>district_categorized</th>\n",
       "    </tr>\n",
       "  </thead>\n",
       "  <tbody>\n",
       "    <tr>\n",
       "      <th>1</th>\n",
       "      <td>PV000000554650</td>\n",
       "      <td>Male</td>\n",
       "      <td>42.0</td>\n",
       "      <td>Rajasthan</td>\n",
       "      <td>Jhunjhunun</td>\n",
       "      <td>B D K Hospital Jhunjhunu</td>\n",
       "      <td>138.0</td>\n",
       "      <td>96.0</td>\n",
       "      <td>86.0</td>\n",
       "      <td>18.0</td>\n",
       "      <td>...</td>\n",
       "      <td>N</td>\n",
       "      <td>9</td>\n",
       "      <td>4</td>\n",
       "      <td>2</td>\n",
       "      <td>1</td>\n",
       "      <td>1</td>\n",
       "      <td>[0, 0, 0, 0, 0, 0, 0, 0, 0, 0, 0, 0, 0, 0, 0, ...</td>\n",
       "      <td>[0, 0, 0, 0, 0, 0, 0, 0, 0, 0, 0, 0, 0, 0, 0, ...</td>\n",
       "      <td>0</td>\n",
       "      <td>27</td>\n",
       "    </tr>\n",
       "    <tr>\n",
       "      <th>5</th>\n",
       "      <td>PV000000554890</td>\n",
       "      <td>Male</td>\n",
       "      <td>63.0</td>\n",
       "      <td>Rajasthan</td>\n",
       "      <td>Ajmer</td>\n",
       "      <td>Y N Hospital Kishangarh</td>\n",
       "      <td>120.0</td>\n",
       "      <td>80.0</td>\n",
       "      <td>74.0</td>\n",
       "      <td>26.0</td>\n",
       "      <td>...</td>\n",
       "      <td>N</td>\n",
       "      <td>13</td>\n",
       "      <td>1</td>\n",
       "      <td>2</td>\n",
       "      <td>2</td>\n",
       "      <td>1</td>\n",
       "      <td>[0, 0, 0, 0, 0, 0, 0, 0, 0, 0, 0, 0, 0, 0, 0, ...</td>\n",
       "      <td>[0, 0, 0, 0, 0, 0, 0, 0, 0, 0, 0, 0, 0, 0, 0, ...</td>\n",
       "      <td>0</td>\n",
       "      <td>0</td>\n",
       "    </tr>\n",
       "    <tr>\n",
       "      <th>7</th>\n",
       "      <td>PV000000554912</td>\n",
       "      <td>Male</td>\n",
       "      <td>65.5</td>\n",
       "      <td>Rajasthan</td>\n",
       "      <td>Dholpur</td>\n",
       "      <td>Bari</td>\n",
       "      <td>146.0</td>\n",
       "      <td>100.0</td>\n",
       "      <td>89.0</td>\n",
       "      <td>18.0</td>\n",
       "      <td>...</td>\n",
       "      <td>N</td>\n",
       "      <td>14</td>\n",
       "      <td>4</td>\n",
       "      <td>2</td>\n",
       "      <td>1</td>\n",
       "      <td>1</td>\n",
       "      <td>[0, 0, 0, 0, 0, 0, 0, 0, 0, 0, 0, 0, 0, 0, 0, ...</td>\n",
       "      <td>[0, 0, 0, 0, 0, 0, 0, 0, 0, 0, 0, 0, 0, 0, 0, ...</td>\n",
       "      <td>0</td>\n",
       "      <td>16</td>\n",
       "    </tr>\n",
       "    <tr>\n",
       "      <th>9</th>\n",
       "      <td>PV000000554982</td>\n",
       "      <td>Female</td>\n",
       "      <td>26.0</td>\n",
       "      <td>Chhattisgarh</td>\n",
       "      <td>Dantewada</td>\n",
       "      <td>Nerli</td>\n",
       "      <td>110.0</td>\n",
       "      <td>80.0</td>\n",
       "      <td>84.0</td>\n",
       "      <td>22.0</td>\n",
       "      <td>...</td>\n",
       "      <td>N</td>\n",
       "      <td>6</td>\n",
       "      <td>1</td>\n",
       "      <td>2</td>\n",
       "      <td>2</td>\n",
       "      <td>1</td>\n",
       "      <td>[0, 0, 0, 0, 0, 0, 0, 0, 0, 0, 0, 0, 0, 0, 0, ...</td>\n",
       "      <td>[0, 0, 0, 0, 0, 0, 0, 0, 0, 0, 0, 0, 0, 0, 0, ...</td>\n",
       "      <td>1</td>\n",
       "      <td>15</td>\n",
       "    </tr>\n",
       "    <tr>\n",
       "      <th>20</th>\n",
       "      <td>PV000000555256</td>\n",
       "      <td>Male</td>\n",
       "      <td>20.0</td>\n",
       "      <td>Rajasthan</td>\n",
       "      <td>Dholpur</td>\n",
       "      <td>Sadar Hospital Dholpur</td>\n",
       "      <td>120.0</td>\n",
       "      <td>80.0</td>\n",
       "      <td>82.0</td>\n",
       "      <td>18.0</td>\n",
       "      <td>...</td>\n",
       "      <td>N</td>\n",
       "      <td>4</td>\n",
       "      <td>1</td>\n",
       "      <td>2</td>\n",
       "      <td>1</td>\n",
       "      <td>1</td>\n",
       "      <td>[0, 0, 0, 0, 0, 0, 0, 0, 0, 0, 0, 0, 0, 0, 0, ...</td>\n",
       "      <td>[0, 0, 0, 0, 0, 0, 0, 0, 0, 0, 0, 0, 0, 0, 0, ...</td>\n",
       "      <td>0</td>\n",
       "      <td>16</td>\n",
       "    </tr>\n",
       "  </tbody>\n",
       "</table>\n",
       "<p>5 rows × 27 columns</p>\n",
       "</div>"
      ],
      "text/plain": [
       "   PATIENT_VISIT_ID  GENDER   AGE    STATE_NAME DISTRICT_NAME  \\\n",
       "1    PV000000554650    Male  42.0     Rajasthan    Jhunjhunun   \n",
       "5    PV000000554890    Male  63.0     Rajasthan         Ajmer   \n",
       "7    PV000000554912    Male  65.5     Rajasthan       Dholpur   \n",
       "9    PV000000554982  Female  26.0  Chhattisgarh     Dantewada   \n",
       "20   PV000000555256    Male  20.0     Rajasthan       Dholpur   \n",
       "\n",
       "           CENTER_SHORT_NAME  SYSTOLIC_BP  DIASTOLIC_BP  PULSE  \\\n",
       "1   B D K Hospital Jhunjhunu        138.0          96.0   86.0   \n",
       "5    Y N Hospital Kishangarh        120.0          80.0   74.0   \n",
       "7                       Bari        146.0         100.0   89.0   \n",
       "9                      Nerli        110.0          80.0   84.0   \n",
       "20    Sadar Hospital Dholpur        120.0          80.0   82.0   \n",
       "\n",
       "    RESPIRATION_RATE  ...  REFERRED  age_binned  blood_pressure  \\\n",
       "1               18.0  ...         N           9               4   \n",
       "5               26.0  ...         N          13               1   \n",
       "7               18.0  ...         N          14               4   \n",
       "9               22.0  ...         N           6               1   \n",
       "20              18.0  ...         N           4               1   \n",
       "\n",
       "    pulse_rate_categorized respiration_rate_categorized SPO2_categorized  \\\n",
       "1                        2                            1                1   \n",
       "5                        2                            2                1   \n",
       "7                        2                            1                1   \n",
       "9                        2                            2                1   \n",
       "20                       2                            1                1   \n",
       "\n",
       "                                      symtoms_encoded  \\\n",
       "1   [0, 0, 0, 0, 0, 0, 0, 0, 0, 0, 0, 0, 0, 0, 0, ...   \n",
       "5   [0, 0, 0, 0, 0, 0, 0, 0, 0, 0, 0, 0, 0, 0, 0, ...   \n",
       "7   [0, 0, 0, 0, 0, 0, 0, 0, 0, 0, 0, 0, 0, 0, 0, ...   \n",
       "9   [0, 0, 0, 0, 0, 0, 0, 0, 0, 0, 0, 0, 0, 0, 0, ...   \n",
       "20  [0, 0, 0, 0, 0, 0, 0, 0, 0, 0, 0, 0, 0, 0, 0, ...   \n",
       "\n",
       "                                     diseases_encoded gender_categorized  \\\n",
       "1   [0, 0, 0, 0, 0, 0, 0, 0, 0, 0, 0, 0, 0, 0, 0, ...                  0   \n",
       "5   [0, 0, 0, 0, 0, 0, 0, 0, 0, 0, 0, 0, 0, 0, 0, ...                  0   \n",
       "7   [0, 0, 0, 0, 0, 0, 0, 0, 0, 0, 0, 0, 0, 0, 0, ...                  0   \n",
       "9   [0, 0, 0, 0, 0, 0, 0, 0, 0, 0, 0, 0, 0, 0, 0, ...                  1   \n",
       "20  [0, 0, 0, 0, 0, 0, 0, 0, 0, 0, 0, 0, 0, 0, 0, ...                  0   \n",
       "\n",
       "    district_categorized  \n",
       "1                     27  \n",
       "5                      0  \n",
       "7                     16  \n",
       "9                     15  \n",
       "20                    16  \n",
       "\n",
       "[5 rows x 27 columns]"
      ]
     },
     "execution_count": 55,
     "metadata": {},
     "output_type": "execute_result"
    }
   ],
   "source": [
    "patients_df_symptomId.head()"
   ]
  },
  {
   "cell_type": "markdown",
   "metadata": {},
   "source": [
    "<b>Preparing data for training:</b>"
   ]
  },
  {
   "cell_type": "code",
   "execution_count": 57,
   "metadata": {},
   "outputs": [
    {
     "data": {
      "text/plain": [
       "Index(['PATIENT_VISIT_ID', 'GENDER', 'AGE', 'STATE_NAME', 'DISTRICT_NAME',\n",
       "       'CENTER_SHORT_NAME', 'SYSTOLIC_BP', 'DIASTOLIC_BP', 'PULSE',\n",
       "       'RESPIRATION_RATE', 'BODY_TEMPERATURE', 'BODY_WEIGHT', 'HEIGHT', 'SPO2',\n",
       "       'SYMPTOM_ID', 'MEDICAL_TEST_NAME', 'DISEASE_ID', 'REFERRED',\n",
       "       'age_binned', 'blood_pressure', 'pulse_rate_categorized',\n",
       "       'respiration_rate_categorized', 'SPO2_categorized', 'symtoms_encoded',\n",
       "       'diseases_encoded', 'gender_categorized', 'district_categorized'],\n",
       "      dtype='object')"
      ]
     },
     "execution_count": 57,
     "metadata": {},
     "output_type": "execute_result"
    }
   ],
   "source": [
    "patients_df_symptomId.columns"
   ]
  },
  {
   "cell_type": "code",
   "execution_count": 58,
   "metadata": {},
   "outputs": [],
   "source": [
    "features_df = patients_df_symptomId[['gender_categorized','age_binned','district_categorized','blood_pressure','pulse_rate_categorized',\n",
    "                              'respiration_rate_categorized','BODY_TEMPERATURE','BODY_WEIGHT','HEIGHT','SPO2_categorized']]"
   ]
  },
  {
   "cell_type": "code",
   "execution_count": 62,
   "metadata": {},
   "outputs": [],
   "source": [
    "features = features_df.values"
   ]
  },
  {
   "cell_type": "code",
   "execution_count": 88,
   "metadata": {},
   "outputs": [],
   "source": [
    "features = np.hstack((features, symptoms_encoded))"
   ]
  },
  {
   "cell_type": "code",
   "execution_count": 95,
   "metadata": {},
   "outputs": [],
   "source": [
    "labels = diseases_encoded"
   ]
  },
  {
   "cell_type": "code",
   "execution_count": 96,
   "metadata": {},
   "outputs": [
    {
     "name": "stdout",
     "output_type": "stream",
     "text": [
      "(35791, 787) (35791, 301)\n"
     ]
    }
   ],
   "source": [
    "print(features.shape,labels.shape)"
   ]
  },
  {
   "cell_type": "markdown",
   "metadata": {},
   "source": [
    "Try \n",
    "* XGBoost on unbalanced with HYPERPARAMETER TUNING (try AWS tuning job)\n",
    "* Then try balancing etc"
   ]
  }
 ],
 "metadata": {
  "kernelspec": {
   "display_name": "conda_python3",
   "language": "python",
   "name": "conda_python3"
  },
  "language_info": {
   "codemirror_mode": {
    "name": "ipython",
    "version": 3
   },
   "file_extension": ".py",
   "mimetype": "text/x-python",
   "name": "python",
   "nbconvert_exporter": "python",
   "pygments_lexer": "ipython3",
   "version": "3.6.5"
  }
 },
 "nbformat": 4,
 "nbformat_minor": 2
}
